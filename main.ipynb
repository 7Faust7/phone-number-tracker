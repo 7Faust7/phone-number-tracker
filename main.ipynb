{
 "cells": [
  {
   "cell_type": "code",
   "execution_count": null,
   "metadata": {},
   "outputs": [],
   "source": [
    "#pip install the required libraries\n",
    "%pip install opencage\n",
    "%pip install phonenumbers\n",
    "%pip install folium "
   ]
  },
  {
   "cell_type": "code",
   "execution_count": 65,
   "metadata": {},
   "outputs": [],
   "source": [
    "import phonenumbers as ph\n",
    "import opencage\n",
    "import folium\n",
    "\n",
    "#code made by tech2etc\n",
    "#modified by 7faust7\n",
    "\n",
    "#insert phone number down below (using the correct country code)\n",
    "phonenum = ''\n",
    "\n",
    "#import geocoder to get the geolocation\n",
    "from phonenumbers import geocoder \n",
    "\n"
   ]
  },
  {
   "cell_type": "code",
   "execution_count": null,
   "metadata": {},
   "outputs": [],
   "source": [
    "#to know the location of the phonenumber using the geolocation\n",
    "\n",
    "#parse to know what phone number to take\n",
    "pepumber = ph.parse(phonenum)\n",
    "#to get the location \n",
    "location = geocoder.description_for_number(pepumber,\"en\")\n",
    "#set to EN because i want the language to be english \n",
    "print (location)\n"
   ]
  },
  {
   "cell_type": "code",
   "execution_count": null,
   "metadata": {},
   "outputs": [],
   "source": [
    "#to know the carrier of the phone\n",
    "from phonenumbers import carrier\n",
    "\n",
    "service_car = ph.parse(phonenum)\n",
    "carriername = (carrier.name_for_number(service_car,\"en\"))\n",
    "print (carriername)"
   ]
  },
  {
   "cell_type": "code",
   "execution_count": null,
   "metadata": {},
   "outputs": [],
   "source": [
    "from opencage.geocoder import OpenCageGeocode\n",
    "#put the key from opencage from the API keys\n",
    "key = ''\n",
    "\n",
    "\n",
    "#to get the longitude and latitude\n",
    "geocoder = OpenCageGeocode(key)\n",
    "query = str(location)\n",
    "results = geocoder.geocode(query)\n",
    "# print(results)\n",
    "\n",
    "#to determine the exact geolocation using longitude and latitude\n",
    "latitude = results[0]['geometry']['lat']\n",
    "longitude = results[0]['geometry']['lng']\n",
    "print('latitude =',latitude)\n",
    "print('longitude =',longitude)"
   ]
  },
  {
   "cell_type": "code",
   "execution_count": 69,
   "metadata": {},
   "outputs": [],
   "source": [
    "#to get the map location\n",
    "\n",
    "mymap = folium.Map(location=[latitude,longitude],zoom_start=9)\n",
    "folium.Marker([latitude,longitude],popup=location).add_to(mymap)\n",
    "\n",
    "mymap.save(\"myphone.html\")"
   ]
  },
  {
   "cell_type": "code",
   "execution_count": null,
   "metadata": {},
   "outputs": [],
   "source": []
  }
 ],
 "metadata": {
  "kernelspec": {
   "display_name": "Python 3",
   "language": "python",
   "name": "python3"
  },
  "language_info": {
   "codemirror_mode": {
    "name": "ipython",
    "version": 3
   },
   "file_extension": ".py",
   "mimetype": "text/x-python",
   "name": "python",
   "nbconvert_exporter": "python",
   "pygments_lexer": "ipython3",
   "version": "3.11.5"
  },
  "orig_nbformat": 4
 },
 "nbformat": 4,
 "nbformat_minor": 2
}
